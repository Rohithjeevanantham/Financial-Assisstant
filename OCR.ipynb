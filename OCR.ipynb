import panel as pn
from langchain_community.llms import Ollama
from PIL import Image
import io
import pytesseract

# Load the Ollama language model
llm = Ollama(model="Finance_l2")

# Set the path to the Tesseract executable (update this with your installation path)
pytesseract.pytesseract.tesseract_cmd = r'C:\Program Files\Tesseract-OCR\tesseract.exe'


# Create tabs for different sections of the dashboard
tab1_content = pn.Column(
    pn.pane.Markdown("## Hi, I am your personal Financial assistant! "),
    pn.widgets.FileInput(accept=".png, .jpg, .jpeg", name="Upload Image"),
    pn.widgets.Button(name="Perform OCR & Invoke Model", button_type="primary"),
    pn.pane.Str(name="Output:", width=800)  # Pane to display the output
)

# Create the main layout for the Ollama language model section
ollama_main_layout = pn.Row(
    pn.Spacer(width=200),  # Spacer to center-align content
    pn.Column(tab1_content, align="center"),
    pn.Spacer(width=200),  # Spacer to center-align content
)

# Create the dashboard template for the Ollama language model section
ollama_template = pn.template.FastListTemplate(
    title='Financial Planner',
    header_background="#183a1d",
    main=ollama_main_layout
)

# Define a callback to perform OCR and invoke the model
def perform_ocr_and_invoke_model(event):
    # Get the uploaded image file
    uploaded_image = tab1_content[1].value
    
    if uploaded_image is not None:
        # Read the image data
        image_data = uploaded_image
        
        # Open the image using PIL
        img = Image.open(io.BytesIO(image_data))
        
        # Perform OCR on the image
        ocr_result = pytesseract.image_to_string(img)
        
        # Invoke the model with the OCR result
        output_text = llm.invoke(ocr_result)
        
        # Update the output pane with the model output
        tab1_content[-1] = pn.pane.Str(output_text, width=800)
    else:
        tab1_content[-1] = pn.pane.Str("Please upload an image first.", width=800)

# Assign the callback to the button
tab1_content[2].on_click(perform_ocr_and_invoke_model)

# Show the Ollama language model dashboard
ollama_template.show()

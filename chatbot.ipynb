import panel as pn
from langchain_community.llms import Ollama

# Load the Ollama language model
llm = Ollama(model="Finance_l2")

# Create tabs for different sections of the dashboard
text_input = pn.widgets.TextInput(name="Text Input", placeholder="Enter your text here")
invoke_button = pn.widgets.Button(name="Invoke Model", button_type="primary")
continue_button = pn.widgets.Button(name="Continue")
exit_button = pn.widgets.Button(name="Exit")
output_text = pn.pane.Markdown("", width=800)
prompt_history = []

def update_output_text():
    output_text.object = "\n\n".join(prompt_history)

def invoke_model(event):
    global prompt_history
    input_text = text_input.value
    output = llm.invoke(input_text)
    prompt_history.append(f"Prompt: {input_text}\n\n*Answer:* {output}")
    update_output_text()
    text_input.disabled = True
    invoke_button.disabled = True
    continue_button.disabled = False
    exit_button.disabled = False

def continue_prompt(event):
    text_input.disabled = False
    invoke_button.disabled = False
    continue_button.disabled = True
    exit_button.disabled = True

def exit_prompt(event):
    global prompt_history
    prompt_history = []
    update_output_text()
    continue_prompt(event)

invoke_button.on_click(invoke_model)
continue_button.on_click(continue_prompt)
exit_button.on_click(exit_prompt)

# Create tabs for different sections of the dashboard
tab1_content = pn.Column(
    pn.pane.Markdown("## Hi, I am your personal Financial assistant! "),
    pn.pane.Markdown("### Enter your prompt here "),
    text_input,
    invoke_button,
    output_text,
    pn.Row(continue_button, exit_button)
)

# Create the main layout for the Ollama language model section
ollama_main_layout = pn.Row(
    pn.Spacer(width=200),  # Spacer to center-align content
    pn.Column(tab1_content, align="center"),
    pn.Spacer(width=200),  # Spacer to center-align content
)

# Create the sidebar for the Ollama language model section
ollama_sidebar = pn.Column(
    pn.pane.Markdown("# Ollama Language Model"),
    pn.pane.Markdown("This dashboard allows you to interact with the Ollama language model."),
    pn.pane.PNG("ollama.png", sizing_mode="scale_both")
)

# Create the dashboard template for the Ollama language model section
ollama_template = pn.template.FastListTemplate(
    title='Financial Planner',
    header_background="#183a1d",
    sidebar=ollama_sidebar,
    main=ollama_main_layout
)

# Show the Ollama language model dashboard
ollama_template.show()